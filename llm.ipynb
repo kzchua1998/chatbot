{
 "cells": [
  {
   "cell_type": "code",
   "execution_count": 1,
   "metadata": {},
   "outputs": [
    {
     "name": "stderr",
     "output_type": "stream",
     "text": [
      "c:\\Users\\pc\\anaconda3\\envs\\chatbot\\lib\\site-packages\\tqdm\\auto.py:21: TqdmWarning: IProgress not found. Please update jupyter and ipywidgets. See https://ipywidgets.readthedocs.io/en/stable/user_install.html\n",
      "  from .autonotebook import tqdm as notebook_tqdm\n"
     ]
    }
   ],
   "source": [
    "import os\n",
    "import torch\n",
    "from datasets import load_dataset\n",
    "from transformers import (\n",
    "    AutoModelForCausalLM,\n",
    "    AutoTokenizer,\n",
    "    BitsAndBytesConfig,\n",
    "    TrainingArguments,\n",
    "    pipeline,\n",
    "    logging,\n",
    ")\n",
    "from peft import LoraConfig\n",
    "from trl import SFTTrainer"
   ]
  },
  {
   "cell_type": "code",
   "execution_count": 2,
   "metadata": {},
   "outputs": [],
   "source": [
    "compute_dtype = getattr(torch, \"bfloat16\")"
   ]
  },
  {
   "cell_type": "code",
   "execution_count": 3,
   "metadata": {},
   "outputs": [],
   "source": [
    "quant_config = BitsAndBytesConfig(\n",
    "    load_in_4bit=True,\n",
    "    bnb_4bit_quant_type=\"nf4\",\n",
    "    bnb_4bit_compute_dtype=compute_dtype,\n",
    "    bnb_4bit_use_double_quant=True,\n",
    ")"
   ]
  },
  {
   "cell_type": "code",
   "execution_count": 4,
   "metadata": {},
   "outputs": [
    {
     "name": "stdout",
     "output_type": "stream",
     "text": [
      "bin c:\\Users\\pc\\anaconda3\\envs\\chatbot\\lib\\site-packages\\bitsandbytes\\libbitsandbytes_cuda118.dll\n"
     ]
    },
    {
     "name": "stderr",
     "output_type": "stream",
     "text": [
      "Loading checkpoint shards: 100%|██████████| 2/2 [09:17<00:00, 278.55s/it]\n"
     ]
    }
   ],
   "source": [
    "model_dir = r\"meta-llama/Llama-2-7b-chat-hf\"\n",
    "model = AutoModelForCausalLM.from_pretrained(\n",
    "    model_dir,\n",
    "    quantization_config=quant_config,\n",
    "    device_map=\"auto\"\n",
    ")\n",
    "model.config.use_cache = False\n",
    "model.config.pretraining_tp = 1"
   ]
  },
  {
   "cell_type": "code",
   "execution_count": 6,
   "metadata": {},
   "outputs": [
    {
     "name": "stderr",
     "output_type": "stream",
     "text": [
      "tokenizer_config.json: 100%|██████████| 1.62k/1.62k [00:00<?, ?B/s]\n",
      "c:\\Users\\pc\\anaconda3\\envs\\chatbot\\lib\\site-packages\\huggingface_hub\\file_download.py:149: UserWarning: `huggingface_hub` cache-system uses symlinks by default to efficiently store duplicated files but your machine does not support them in C:\\Users\\pc\\.cache\\huggingface\\hub\\models--meta-llama--Llama-2-7b-chat-hf. Caching files will still work but in a degraded version that might require more space on your disk. This warning can be disabled by setting the `HF_HUB_DISABLE_SYMLINKS_WARNING` environment variable. For more details, see https://huggingface.co/docs/huggingface_hub/how-to-cache#limitations.\n",
      "To support symlinks on Windows, you either need to activate Developer Mode or to run Python as an administrator. In order to see activate developer mode, see this article: https://docs.microsoft.com/en-us/windows/apps/get-started/enable-your-device-for-development\n",
      "  warnings.warn(message)\n",
      "tokenizer.model: 100%|██████████| 500k/500k [00:00<00:00, 35.9MB/s]\n",
      "tokenizer.json: 100%|██████████| 1.84M/1.84M [00:01<00:00, 1.47MB/s]\n",
      "special_tokens_map.json: 100%|██████████| 414/414 [00:00<?, ?B/s] \n"
     ]
    }
   ],
   "source": [
    "model_dir = r\"meta-llama/Llama-2-7b-chat-hf\"\n",
    "tokenizer =AutoTokenizer.from_pretrained(model_dir)"
   ]
  },
  {
   "cell_type": "code",
   "execution_count": 7,
   "metadata": {},
   "outputs": [],
   "source": [
    "pipeline = pipeline(\n",
    "\"text-generation\",\n",
    "\n",
    "model=model,\n",
    "\n",
    "tokenizer=tokenizer,\n",
    "\n",
    "torch_dtype=torch.bfloat16,\n",
    "\n",
    "device_map=\"auto\",\n",
    "\n",
    ")"
   ]
  },
  {
   "cell_type": "code",
   "execution_count": 151,
   "metadata": {},
   "outputs": [],
   "source": [
    "prompt_template = \"<s>[INST] <<SYS>>\\n \\\n",
    "                    Is the 'User' greeting you? Answer in a single word with 'Yes' or 'No' \\n \\n \\\n",
    "                    <</SYS>>\\n\\n \\\n",
    "                    User: {user_prompt} [/INST]\""
   ]
  },
  {
   "cell_type": "code",
   "execution_count": 163,
   "metadata": {},
   "outputs": [],
   "source": [
    "prompt_template = \"<s>[INST] <<SYS>>\\n \\\n",
    "                    Is the 'User' prompt job-related? \\n \\\n",
    "                    If yes, answer 'Yes' \\n \\\n",
    "                    If no, answer with this sentence 'Sorry, I am only a job recommendation system' \\n \\n \\\n",
    "                    <</SYS>>\\n\\n \\\n",
    "                    User: {user_prompt} [/INST]\""
   ]
  },
  {
   "cell_type": "code",
   "execution_count": 181,
   "metadata": {},
   "outputs": [],
   "source": [
    "prompt_template = \"<s>[INST] <<SYS>>\\n \\\n",
    "                    You are an honest job recommendation assistant. \\n  \\\n",
    "                    If you don't know the answer, please don't share false information. \\n \\\n",
    "                    \\n \\n \\\n",
    "                    <</SYS>>\\n\\n \\\n",
    "                    Given the following job options:\\n \\\n",
    "                    - Receptionist\\n \\\n",
    "                    - Data Scientist\\n \\\n",
    "                    - Cloud engineer\\n \\\n",
    "                    - Full Stack Developer\\n \\\n",
    "                    - Backend Developer\\n \\\n",
    "                    - Python Programmer\\n \\\n",
    "                    - Financial Analyst\\n \\\n",
    "                    - Junior Accountant\\n \\\n",
    "                    - Credit Analyst\\n \\\n",
    "                    - Risk Manager\\n \\\n",
    "                    Match and list three best options in a single word without explanation, considering the following job description \\n \\\n",
    "                    {user_prompt} \\n [/INST]\""
   ]
  },
  {
   "cell_type": "code",
   "execution_count": 35,
   "metadata": {},
   "outputs": [
    {
     "data": {
      "text/plain": [
       "\"<s>[INST] <<SYS>>\\n                     Given the following options:\\n                     - Positive\\n                     - Negative\\n                     - Neutral\\n                     Perform sentiment analysis and select the best option, considering the following 'User' scenario:\\n \\n                     <</SYS>>\\n\\n                     User: I really hate the movie, not gonna watch it again [/INST]\""
      ]
     },
     "execution_count": 35,
     "metadata": {},
     "output_type": "execute_result"
    }
   ],
   "source": [
    "prompt_template.format(user_prompt=\"I really hate the movie, not gonna watch it again\")"
   ]
  },
  {
   "cell_type": "code",
   "execution_count": 24,
   "metadata": {},
   "outputs": [
    {
     "name": "stderr",
     "output_type": "stream",
     "text": [
      "c:\\Users\\pc\\anaconda3\\envs\\chatbot\\lib\\site-packages\\transformers\\pipelines\\base.py:1101: UserWarning: You seem to be using the pipelines sequentially on GPU. In order to maximize efficiency please use a dataset\n",
      "  warnings.warn(\n",
      "Setting `pad_token_id` to `eos_token_id`:2 for open-end generation.\n"
     ]
    },
    {
     "name": "stdout",
     "output_type": "stream",
     "text": [
      "  Sure! Based on the provided text, the overall sentiment of the user towards the movie\n"
     ]
    }
   ],
   "source": [
    "sequences = pipeline(\n",
    "\n",
    "prompt_template.format(user_prompt=\"I really hate the movie, not gonna watch it again\"),\n",
    "\n",
    "do_sample=True,\n",
    "\n",
    "top_k=10,\n",
    "\n",
    "num_return_sequences=1,\n",
    "return_full_text=False,\n",
    "eos_token_id=tokenizer.eos_token_id,\n",
    "\n",
    "max_length=100,\n",
    "\n",
    ")\n",
    "\n",
    "for seq in sequences:\n",
    "    print(f\"{seq['generated_text']}\")"
   ]
  },
  {
   "cell_type": "code",
   "execution_count": 182,
   "metadata": {},
   "outputs": [
    {
     "name": "stdout",
     "output_type": "stream",
     "text": [
      "  Sure, based on the job description you provided, here are three best job options for you:\n",
      "\n",
      "1. Accountant\n",
      "2. Financial Analyst\n",
      "3. Risk Manager\n",
      "\n",
      "All of these options align with the tasks\n"
     ]
    }
   ],
   "source": [
    "sequences = pipeline(\n",
    "\n",
    "prompt_template.format(user_prompt=\"I assist in financial record-keeping, prepare invoices and budgets.\"),\n",
    "\n",
    "do_sample=True,\n",
    "top_k=50,\n",
    "num_return_sequences=1,\n",
    "max_new_tokens=50,\n",
    "return_full_text=False,\n",
    "temperature=.9,\n",
    "top_p=0.95,\n",
    "pad_token_id=tokenizer.eos_token_id\n",
    ")\n",
    "\n",
    "for seq in sequences:\n",
    "    print(f\"{seq['generated_text']}\")"
   ]
  },
  {
   "cell_type": "markdown",
   "metadata": {},
   "source": []
  },
  {
   "cell_type": "code",
   "execution_count": 79,
   "metadata": {},
   "outputs": [
    {
     "data": {
      "text/plain": [
       "[{'generated_text': '  Great, based on your preference for using Python, I would recommend the following three job options:\\n\\n1. Python Programmer - This job'},\n",
       " {'generated_text': '  Great! Based on your preference for using Python, the best job options for you are:\\n\\n1. Python Programmer\\n2. Data'}]"
      ]
     },
     "execution_count": 79,
     "metadata": {},
     "output_type": "execute_result"
    }
   ],
   "source": [
    "sequences"
   ]
  },
  {
   "cell_type": "code",
   "execution_count": null,
   "metadata": {},
   "outputs": [],
   "source": []
  }
 ],
 "metadata": {
  "kernelspec": {
   "display_name": "Python 3",
   "language": "python",
   "name": "python3"
  },
  "language_info": {
   "codemirror_mode": {
    "name": "ipython",
    "version": 3
   },
   "file_extension": ".py",
   "mimetype": "text/x-python",
   "name": "python",
   "nbconvert_exporter": "python",
   "pygments_lexer": "ipython3",
   "version": "3.10.13"
  }
 },
 "nbformat": 4,
 "nbformat_minor": 2
}
